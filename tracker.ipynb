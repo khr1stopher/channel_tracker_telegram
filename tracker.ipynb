{
  "nbformat": 4,
  "nbformat_minor": 0,
  "metadata": {
    "colab": {
      "provenance": [],
      "authorship_tag": "ABX9TyNrs2M2SX2Ql8L3F6sgYcZP",
      "include_colab_link": true
    },
    "kernelspec": {
      "name": "python3",
      "display_name": "Python 3"
    },
    "language_info": {
      "name": "python"
    }
  },
  "cells": [
    {
      "cell_type": "markdown",
      "metadata": {
        "id": "view-in-github",
        "colab_type": "text"
      },
      "source": [
        "<a href=\"https://colab.research.google.com/github/khr1stopher/channel_tracker_telegram/blob/main/tracker.ipynb\" target=\"_parent\"><img src=\"https://colab.research.google.com/assets/colab-badge.svg\" alt=\"Open In Colab\"/></a>"
      ]
    },
    {
      "cell_type": "code",
      "execution_count": 7,
      "metadata": {
        "colab": {
          "base_uri": "https://localhost:8080/"
        },
        "id": "SW71hwwD2ON6",
        "outputId": "d3ed212d-5c67-492f-eadb-21cdcec9fad5"
      },
      "outputs": [
        {
          "output_type": "stream",
          "name": "stdout",
          "text": [
            "Requirement already satisfied: telethon in /usr/local/lib/python3.11/dist-packages (1.40.0)\n",
            "Requirement already satisfied: pyaes in /usr/local/lib/python3.11/dist-packages (from telethon) (1.6.1)\n",
            "Requirement already satisfied: rsa in /usr/local/lib/python3.11/dist-packages (from telethon) (4.9.1)\n",
            "Requirement already satisfied: pyasn1>=0.1.3 in /usr/local/lib/python3.11/dist-packages (from rsa->telethon) (0.6.1)\n"
          ]
        }
      ],
      "source": [
        "!pip install telethon"
      ]
    },
    {
      "cell_type": "code",
      "source": [
        "from telethon import TelegramClient, events\n",
        "from google.colab import userdata\n",
        "import asyncio"
      ],
      "metadata": {
        "id": "iTqEv9tp8ZDU"
      },
      "execution_count": 8,
      "outputs": []
    },
    {
      "cell_type": "code",
      "source": [
        "API_ID = userdata.get('API_ID')\n",
        "API_HASH = userdata.get('API_HASH')\n",
        "CHANNEL_ID = userdata.get('CHANNEL_ID')\n",
        "\n",
        "print(f'CHANNEL_ID: {CHANNEL_ID}')"
      ],
      "metadata": {
        "colab": {
          "base_uri": "https://localhost:8080/"
        },
        "id": "NnlwcO7i83Ow",
        "outputId": "ff5c3b6c-ca72-4410-dcb8-32d39c4f8fac"
      },
      "execution_count": 9,
      "outputs": [
        {
          "output_type": "stream",
          "name": "stdout",
          "text": [
            "CHANNEL_ID: Dollarboyfx\n"
          ]
        }
      ]
    },
    {
      "cell_type": "code",
      "source": [
        "client = TelegramClient('session', API_ID, API_HASH)"
      ],
      "metadata": {
        "id": "cwAy1z_p9D5e"
      },
      "execution_count": 10,
      "outputs": []
    },
    {
      "cell_type": "code",
      "source": [
        "@client.on(events.NewMessage(chats=CHANNEL_ID))\n",
        "async def handler(event):\n",
        "    print(\"New message in channel:\")\n",
        "    print(event.message.text)"
      ],
      "metadata": {
        "id": "Kex2hjOD9Pzz"
      },
      "execution_count": 11,
      "outputs": []
    },
    {
      "cell_type": "code",
      "source": [
        "async def check_channel_info():\n",
        "    entity = await client.get_entity(CHANNEL_ID)\n",
        "    print(\"✅ Connected to channel:\")\n",
        "    print(f\"Title: {entity.title}\")\n",
        "    print(f\"Username: @{entity.username}\")\n",
        "    print(f\"ID: {entity.id}\")\n",
        "    print(f\"Access Hash: {entity.access_hash}\")"
      ],
      "metadata": {
        "id": "0I5n1V_I-qfx"
      },
      "execution_count": 12,
      "outputs": []
    },
    {
      "cell_type": "code",
      "source": [
        "async def main():\n",
        "    await client.start()\n",
        "    await check_channel_info()\n",
        "    print(\"Client is running...\")\n",
        "    await client.run_until_disconnected()"
      ],
      "metadata": {
        "id": "vQm5GUR49lIB"
      },
      "execution_count": 2,
      "outputs": []
    },
    {
      "cell_type": "code",
      "source": [
        "await main()"
      ],
      "metadata": {
        "colab": {
          "base_uri": "https://localhost:8080/"
        },
        "id": "7jK3AVMC9mq_",
        "outputId": "efce7cc6-262d-4d96-ad42-556c3a4230ef"
      },
      "execution_count": null,
      "outputs": [
        {
          "output_type": "stream",
          "name": "stdout",
          "text": [
            "✅ Connected to channel:\n",
            "Title: 𝑴𝒂𝒗𝒊𝒂__𝑭𝒙 𝑪𝒐𝒎𝒎𝒖𝒏𝒊𝒕𝒚 🐬\n",
            "Username: @Dollarboyfx\n",
            "ID: 1689166715\n",
            "Access Hash: 6393704293761480938\n",
            "Client is running...\n"
          ]
        }
      ]
    },
    {
      "cell_type": "code",
      "source": [],
      "metadata": {
        "id": "y-WsYloCF3yF"
      },
      "execution_count": null,
      "outputs": []
    }
  ]
}